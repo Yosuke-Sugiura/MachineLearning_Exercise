{
  "nbformat": 4,
  "nbformat_minor": 0,
  "metadata": {
    "colab": {
      "provenance": [],
      "authorship_tag": "ABX9TyPn8jeU/qtPBIfQdlULD13/",
      "include_colab_link": true
    },
    "kernelspec": {
      "name": "python3",
      "display_name": "Python 3"
    },
    "language_info": {
      "name": "python"
    }
  },
  "cells": [
    {
      "cell_type": "markdown",
      "metadata": {
        "id": "view-in-github",
        "colab_type": "text"
      },
      "source": [
        "<a href=\"https://colab.research.google.com/github/Yosuke-Sugiura/MachineLearning_Exercise/blob/main/%E8%AD%98%E5%88%A5%E3%81%AB%E9%96%A2%E3%81%99%E3%82%8B%E3%82%B3%E3%83%BC%E3%83%89.ipynb\" target=\"_parent\"><img src=\"https://colab.research.google.com/assets/colab-badge.svg\" alt=\"Open In Colab\"/></a>"
      ]
    },
    {
      "cell_type": "markdown",
      "source": [
        "# データ準備\n",
        "\n",
        "必要データをGoogle Driveにダウンロードして使用する．\n",
        "ドライブをマウント(連携)するには，左のツーツバーのアイコンから「フォルダ」をクリック，左から３番めの「ドライブをマウント」ボタンをクリックする．"
      ],
      "metadata": {
        "id": "jVVAXB2wmJpw"
      }
    },
    {
      "cell_type": "markdown",
      "source": [
        "ただし，このコードではGithubにアップロードされているcsvデータをダウンロードする．"
      ],
      "metadata": {
        "id": "atvOmvFpmPeg"
      }
    },
    {
      "cell_type": "code",
      "execution_count": 4,
      "metadata": {
        "id": "n__j5HIjmImu",
        "colab": {
          "base_uri": "https://localhost:8080/"
        },
        "outputId": "abf569c5-06d4-4193-ca86-3a6cd28ed51e"
      },
      "outputs": [
        {
          "output_type": "stream",
          "name": "stdout",
          "text": [
            "--2024-07-23 00:56:27--  https://raw.githubusercontent.com/Yosuke-Sugiura/MachineLearning_Exercise/main/data/titanic.csv\n",
            "Resolving raw.githubusercontent.com (raw.githubusercontent.com)... 185.199.108.133, 185.199.109.133, 185.199.110.133, ...\n",
            "Connecting to raw.githubusercontent.com (raw.githubusercontent.com)|185.199.108.133|:443... connected.\n",
            "HTTP request sent, awaiting response... 200 OK\n",
            "Length: 14117 (14K) [text/plain]\n",
            "Saving to: ‘titanic.csv’\n",
            "\n",
            "\rtitanic.csv           0%[                    ]       0  --.-KB/s               \rtitanic.csv         100%[===================>]  13.79K  --.-KB/s    in 0s      \n",
            "\n",
            "2024-07-23 00:56:27 (39.4 MB/s) - ‘titanic.csv’ saved [14117/14117]\n",
            "\n"
          ]
        }
      ],
      "source": [
        "! wget \"https://raw.githubusercontent.com/Yosuke-Sugiura/MachineLearning_Exercise/main/data/titanic.csv\" -O \"titanic.csv\""
      ]
    },
    {
      "cell_type": "markdown",
      "source": [
        "# ランダムフォレスト\n",
        "---\n",
        "\n"
      ],
      "metadata": {
        "id": "k-IoGHsTmUkD"
      }
    },
    {
      "cell_type": "code",
      "source": [
        "# 必要なライブラリのインポート\n",
        "import numpy as np                                 # numpyモジュールを読み込んで\"np\"と名付ける\n",
        "import matplotlib.pyplot as plt           # matplotlibモジュール:図を表示するためのもの\n",
        "import seaborn as sns                              # seabornモジュール:図を表示するためのもの\n",
        "from sklearn.model_selection import train_test_split\n",
        "from sklearn.ensemble import RandomForestClassifier\n",
        "from sklearn.metrics import confusion_matrix, accuracy_score\n",
        "\n",
        "# データの読み込み\n",
        "with open(\"titanic.csv\", 'r') as file:\n",
        "    line = file.readline()\n",
        "    data = np.loadtxt(file, delimiter=',')\n",
        "\n",
        "# 最後の列を目的変数に設定\n",
        "X = data[:, :-1]       # 最後の列を除く全ての列を特徴量に\n",
        "y = data[:, -1]        # 最後の列（目的変数）\n",
        "\n",
        "# ランダムフォレストモデルの作成と訓練\n",
        "# n_estimators : 決定木の数．多いほど汎化性能が向上する\n",
        "model = RandomForestClassifier(n_estimators=10, random_state=42)\n",
        "model.fit(X, y)\n",
        "\n",
        "# 予測\n",
        "y_pred = model.predict(X)\n",
        "\n",
        "# 精度の計算\n",
        "accuracy = accuracy_score(y,  y_pred)\n",
        "print(f'Accuracy: {accuracy:.2f}')\n",
        "\n",
        "# 混合行列を表示\n",
        "conf_matrix = confusion_matrix(y, y_pred)\n",
        "sns.heatmap(conf_matrix, annot=True, fmt='d', cmap='Blues')\n",
        "plt.xlabel('Predicted')\n",
        "plt.ylabel('Actual')\n",
        "plt.title(f'Confusion Matrix (Accuracy: {accuracy:.2f})')\n",
        "plt.show()"
      ],
      "metadata": {
        "id": "t8MftTWGmUDb",
        "colab": {
          "base_uri": "https://localhost:8080/",
          "height": 489
        },
        "outputId": "870cee2f-11e9-4e8d-edfb-d3aa61e4f0bf"
      },
      "execution_count": 10,
      "outputs": [
        {
          "output_type": "stream",
          "name": "stdout",
          "text": [
            "Accuracy: 0.97\n"
          ]
        },
        {
          "output_type": "display_data",
          "data": {
            "text/plain": [
              "<Figure size 640x480 with 2 Axes>"
            ],
            "image/png": "[encoded data removed]"
          },
          "metadata": {}
        }
      ]
    },
    {
      "cell_type": "markdown",
      "source": [
        "---\n",
        "# 学習用データとテスト用データを分割する (LLM生成AIの活用)\n",
        "\n",
        "元のデータセットを分割して，学習用のデータとテスト用のデータを作成しよう．\n",
        "コードを作成することは簡単ではないので，ChatGPTなどのLLMサービスにお願いしよう．\n",
        "1. プロンプトを入力して実行する．\n",
        "  - \"ランダムフォレストを行う\"など目的を明確に示す．\n",
        "  - \"学習用とテスト用でデータを分割したい\" とほしい結果を示す．\n",
        "  - 上のコードを`Ctl+C`でコピーして貼り付けるとコードを改修してくれる．\n",
        "2. 結果が気に入らなければ，回答のうちどこを修正してほしいかをプロンプトとして入力して実行する．\n",
        "3. エラーが出れば，エラー文をプロンプトに入力して実行すれば解決案を提示してくれる．"
      ],
      "metadata": {
        "id": "h0ZhJH4RIcJp"
      }
    }
  ]
}